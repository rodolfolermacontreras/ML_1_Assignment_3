{
 "cells": [
  {
   "cell_type": "markdown",
   "metadata": {},
   "source": [
    "## Lesson 3. Classification: Credit worthiness from German bank\n",
    "\n",
    "#### Student: Rodolfo Lerma"
   ]
  },
  {
   "cell_type": "markdown",
   "metadata": {},
   "source": [
    "<img src=\"https://upload.wikimedia.org/wikipedia/commons/8/8e/Flag_map_of_Germany.svg\" style=\"height:200px;\">\n",
    "  \n",
    "  <p>In this exercise you will predict credit worthiness of custmers of a German bank (<a href=\"https://archive.ics.uci.edu/ml/datasets/statlog+(german+credit+data)\">provided by Hans Hofmann from Univeristy of Hamburg</a>). The data we will be working with here is a reduced version of the full dataset.</p>\n",
    "<p>The following features are available for the 1000-row dataset:</p>\n",
    "<ul>\n",
    "<li>Class: Credit worthiness (what you are trying to predict)</li>\n",
    "<li>Duration: Duration of the credit (in months) </li>\n",
    "<li>Amount: Amount of money asked for (in Deutche Marks (DM))</li>\n",
    "<li>InstallmentRatePercentage: Installment rate in percentage of disposable income </li>\n",
    "<li>ResidenceDuration: Number of years at current residence</li>\n",
    "<li>Age: Person's age</li>\n",
    "<li>NumberExistingCredits: Number of credit accounts</li>\n",
    "<li>NumberPeopleMaintenance: Number of people being liable to provide maintenance for the credit</li>\n",
    "<li>Telephone: Is there a phone number associated with the customer name?  </li>\n",
    "<li>ForeignWorker: Is the person a foreign worker?</li>\n",
    "<li>CheckingAccountStatus: Amount of money in the checking account (in DM)<ul>\n",
    "<li>CheckingAccountStatus.lt.0</li>\n",
    "<li>CheckingAccountStatus.0.to.200</li>\n",
    "<li>CheckingAccountStatus.gt.200</li>\n",
    "</ul></li>\n",
    "<li>CreditHistory: Past credit history<ul>\n",
    "<li>CreditHistory.ThisBank.AllPaid</li>\n",
    "<li>CreditHistory.PaidDuly</li>\n",
    "<li>CreditHistory.Delay</li>\n",
    "<li>CreditHistory.Critical</li>\n",
    "</ul></li>\n",
    "</ul>\n",
    "\n",
    "<p>This dataset is available in <a href=\"http://caret.r-forge.r-project.org/\">'caret'</a> library. Let's load it and see how it looks:</p>"
   ]
  },
  {
   "cell_type": "code",
   "execution_count": 1,
   "metadata": {},
   "outputs": [
    {
     "data": {
      "text/html": [
       "<div>\n",
       "<style scoped>\n",
       "    .dataframe tbody tr th:only-of-type {\n",
       "        vertical-align: middle;\n",
       "    }\n",
       "\n",
       "    .dataframe tbody tr th {\n",
       "        vertical-align: top;\n",
       "    }\n",
       "\n",
       "    .dataframe thead th {\n",
       "        text-align: right;\n",
       "    }\n",
       "</style>\n",
       "<table border=\"1\" class=\"dataframe\">\n",
       "  <thead>\n",
       "    <tr style=\"text-align: right;\">\n",
       "      <th></th>\n",
       "      <th>Class</th>\n",
       "      <th>Duration</th>\n",
       "      <th>Amount</th>\n",
       "      <th>InstallmentRatePercentage</th>\n",
       "      <th>ResidenceDuration</th>\n",
       "      <th>Age</th>\n",
       "      <th>NumberExistingCredits</th>\n",
       "      <th>NumberPeopleMaintenance</th>\n",
       "      <th>Telephone</th>\n",
       "      <th>ForeignWorker</th>\n",
       "      <th>CheckingAccountStatus.lt.0</th>\n",
       "      <th>CheckingAccountStatus.0.to.200</th>\n",
       "      <th>CheckingAccountStatus.gt.200</th>\n",
       "      <th>CreditHistory.ThisBank.AllPaid</th>\n",
       "      <th>CreditHistory.PaidDuly</th>\n",
       "      <th>CreditHistory.Delay</th>\n",
       "      <th>CreditHistory.Critical</th>\n",
       "    </tr>\n",
       "  </thead>\n",
       "  <tbody>\n",
       "    <tr>\n",
       "      <th>0</th>\n",
       "      <td>Good</td>\n",
       "      <td>6</td>\n",
       "      <td>1169</td>\n",
       "      <td>4</td>\n",
       "      <td>4</td>\n",
       "      <td>67</td>\n",
       "      <td>2</td>\n",
       "      <td>1</td>\n",
       "      <td>0</td>\n",
       "      <td>1</td>\n",
       "      <td>1</td>\n",
       "      <td>0</td>\n",
       "      <td>0</td>\n",
       "      <td>0</td>\n",
       "      <td>0</td>\n",
       "      <td>0</td>\n",
       "      <td>1</td>\n",
       "    </tr>\n",
       "    <tr>\n",
       "      <th>1</th>\n",
       "      <td>Bad</td>\n",
       "      <td>48</td>\n",
       "      <td>5951</td>\n",
       "      <td>2</td>\n",
       "      <td>2</td>\n",
       "      <td>22</td>\n",
       "      <td>1</td>\n",
       "      <td>1</td>\n",
       "      <td>1</td>\n",
       "      <td>1</td>\n",
       "      <td>0</td>\n",
       "      <td>1</td>\n",
       "      <td>0</td>\n",
       "      <td>0</td>\n",
       "      <td>1</td>\n",
       "      <td>0</td>\n",
       "      <td>0</td>\n",
       "    </tr>\n",
       "    <tr>\n",
       "      <th>2</th>\n",
       "      <td>Good</td>\n",
       "      <td>12</td>\n",
       "      <td>2096</td>\n",
       "      <td>2</td>\n",
       "      <td>3</td>\n",
       "      <td>49</td>\n",
       "      <td>1</td>\n",
       "      <td>2</td>\n",
       "      <td>1</td>\n",
       "      <td>1</td>\n",
       "      <td>0</td>\n",
       "      <td>0</td>\n",
       "      <td>0</td>\n",
       "      <td>0</td>\n",
       "      <td>0</td>\n",
       "      <td>0</td>\n",
       "      <td>1</td>\n",
       "    </tr>\n",
       "    <tr>\n",
       "      <th>3</th>\n",
       "      <td>Good</td>\n",
       "      <td>36</td>\n",
       "      <td>9055</td>\n",
       "      <td>2</td>\n",
       "      <td>4</td>\n",
       "      <td>35</td>\n",
       "      <td>1</td>\n",
       "      <td>2</td>\n",
       "      <td>0</td>\n",
       "      <td>1</td>\n",
       "      <td>0</td>\n",
       "      <td>0</td>\n",
       "      <td>0</td>\n",
       "      <td>0</td>\n",
       "      <td>1</td>\n",
       "      <td>0</td>\n",
       "      <td>0</td>\n",
       "    </tr>\n",
       "    <tr>\n",
       "      <th>4</th>\n",
       "      <td>Good</td>\n",
       "      <td>24</td>\n",
       "      <td>2835</td>\n",
       "      <td>3</td>\n",
       "      <td>4</td>\n",
       "      <td>53</td>\n",
       "      <td>1</td>\n",
       "      <td>1</td>\n",
       "      <td>1</td>\n",
       "      <td>1</td>\n",
       "      <td>0</td>\n",
       "      <td>0</td>\n",
       "      <td>0</td>\n",
       "      <td>0</td>\n",
       "      <td>1</td>\n",
       "      <td>0</td>\n",
       "      <td>0</td>\n",
       "    </tr>\n",
       "  </tbody>\n",
       "</table>\n",
       "</div>"
      ],
      "text/plain": [
       "  Class  Duration  Amount  InstallmentRatePercentage  ResidenceDuration  Age  \\\n",
       "0  Good         6    1169                          4                  4   67   \n",
       "1   Bad        48    5951                          2                  2   22   \n",
       "2  Good        12    2096                          2                  3   49   \n",
       "3  Good        36    9055                          2                  4   35   \n",
       "4  Good        24    2835                          3                  4   53   \n",
       "\n",
       "   NumberExistingCredits  NumberPeopleMaintenance  Telephone  ForeignWorker  \\\n",
       "0                      2                        1          0              1   \n",
       "1                      1                        1          1              1   \n",
       "2                      1                        2          1              1   \n",
       "3                      1                        2          0              1   \n",
       "4                      1                        1          1              1   \n",
       "\n",
       "   CheckingAccountStatus.lt.0  CheckingAccountStatus.0.to.200  \\\n",
       "0                           1                               0   \n",
       "1                           0                               1   \n",
       "2                           0                               0   \n",
       "3                           0                               0   \n",
       "4                           0                               0   \n",
       "\n",
       "   CheckingAccountStatus.gt.200  CreditHistory.ThisBank.AllPaid  \\\n",
       "0                             0                               0   \n",
       "1                             0                               0   \n",
       "2                             0                               0   \n",
       "3                             0                               0   \n",
       "4                             0                               0   \n",
       "\n",
       "   CreditHistory.PaidDuly  CreditHistory.Delay  CreditHistory.Critical  \n",
       "0                       0                    0                       1  \n",
       "1                       1                    0                       0  \n",
       "2                       0                    0                       1  \n",
       "3                       1                    0                       0  \n",
       "4                       1                    0                       0  "
      ]
     },
     "execution_count": 1,
     "metadata": {},
     "output_type": "execute_result"
    }
   ],
   "source": [
    "import pandas as pd\n",
    "\n",
    "# loading the training and test dataset\n",
    "credit_train = pd.read_csv('credit_train.csv')\n",
    "credit_test = pd.read_csv('credit_test.csv')\n",
    "\n",
    "credit_train.head()"
   ]
  },
  {
   "cell_type": "code",
   "execution_count": 7,
   "metadata": {},
   "outputs": [
    {
     "data": {
      "text/plain": [
       "(808, 17)"
      ]
     },
     "execution_count": 7,
     "metadata": {},
     "output_type": "execute_result"
    }
   ],
   "source": [
    "credit_train.shape"
   ]
  },
  {
   "cell_type": "code",
   "execution_count": 8,
   "metadata": {},
   "outputs": [
    {
     "data": {
      "text/plain": [
       "Class                             object\n",
       "Duration                           int64\n",
       "Amount                             int64\n",
       "InstallmentRatePercentage          int64\n",
       "ResidenceDuration                  int64\n",
       "Age                                int64\n",
       "NumberExistingCredits              int64\n",
       "NumberPeopleMaintenance            int64\n",
       "Telephone                          int64\n",
       "ForeignWorker                      int64\n",
       "CheckingAccountStatus.lt.0         int64\n",
       "CheckingAccountStatus.0.to.200     int64\n",
       "CheckingAccountStatus.gt.200       int64\n",
       "CreditHistory.ThisBank.AllPaid     int64\n",
       "CreditHistory.PaidDuly             int64\n",
       "CreditHistory.Delay                int64\n",
       "CreditHistory.Critical             int64\n",
       "dtype: object"
      ]
     },
     "execution_count": 8,
     "metadata": {},
     "output_type": "execute_result"
    }
   ],
   "source": [
    "credit_train.dtypes"
   ]
  },
  {
   "cell_type": "markdown",
   "metadata": {},
   "source": [
    "Based on the code above we can see that the data set contain 17 columns and 808 observations. Just one of the noted 17 columns is a type object, the rest are consider integers. "
   ]
  },
  {
   "cell_type": "markdown",
   "metadata": {},
   "source": [
    "<h3>Q.0. Write code to display the count of null values in each column<h3>"
   ]
  },
  {
   "cell_type": "code",
   "execution_count": 6,
   "metadata": {},
   "outputs": [
    {
     "data": {
      "text/plain": [
       "Class                             0\n",
       "Duration                          0\n",
       "Amount                            0\n",
       "InstallmentRatePercentage         0\n",
       "ResidenceDuration                 0\n",
       "Age                               0\n",
       "NumberExistingCredits             0\n",
       "NumberPeopleMaintenance           0\n",
       "Telephone                         0\n",
       "ForeignWorker                     0\n",
       "CheckingAccountStatus.lt.0        0\n",
       "CheckingAccountStatus.0.to.200    0\n",
       "CheckingAccountStatus.gt.200      0\n",
       "CreditHistory.ThisBank.AllPaid    0\n",
       "CreditHistory.PaidDuly            0\n",
       "CreditHistory.Delay               0\n",
       "CreditHistory.Critical            0\n",
       "dtype: int64"
      ]
     },
     "execution_count": 6,
     "metadata": {},
     "output_type": "execute_result"
    }
   ],
   "source": [
    "# Command:\n",
    "credit_train.isna().sum()"
   ]
  },
  {
   "cell_type": "markdown",
   "metadata": {},
   "source": [
    "It seems there is no null/missing values in the `credit_train` data set."
   ]
  },
  {
   "cell_type": "markdown",
   "metadata": {},
   "source": [
    "<h3>Q.1. How does the distribution of credit amount look like? (Use a histogram plot to answer this question)</h3>"
   ]
  },
  {
   "cell_type": "code",
   "execution_count": 20,
   "metadata": {},
   "outputs": [
    {
     "data": {
      "image/png": "[encoded data removed]",
      "text/plain": [
       "<Figure size 864x576 with 1 Axes>"
      ]
     },
     "metadata": {
      "needs_background": "light"
     },
     "output_type": "display_data"
    }
   ],
   "source": [
    "# Put the command (or commands) here that would give an answer to the above question.\n",
    "import matplotlib.pyplot as plt\n",
    "import seaborn as sns\n",
    "%matplotlib inline\n",
    "\n",
    "def histogram_plot(a,b):\n",
    "    a[b].hist(figsize = (12,8))\n",
    "    plt.xlabel(b, fontsize = 20)\n",
    "    plt.ylabel('Frequency',fontsize = 20)\n",
    "    plt.title(b, fontsize = 20)\n",
    "    plt.tick_params(axis=\"x\", labelsize=15)\n",
    "    plt.tick_params(axis=\"y\", labelsize=15)\n",
    "    plt.grid(True)\n",
    "    plt.show()\n",
    "\n",
    "histogram_plot(credit_train, 'Amount')"
   ]
  },
  {
   "cell_type": "markdown",
   "metadata": {},
   "source": [
    "One sentence summary:\n",
    "\n",
    "It does not look like a normal distribution, but as a skewed distribution to the right. One can say that it may look like a Log Normal Distribution."
   ]
  },
  {
   "cell_type": "markdown",
   "metadata": {},
   "source": [
    "<h3>Q.2. Can you generate a plot that shows CreditHistory.Critical vs. Credit Worthiness for the training data. Can you comment whether person with critical credit history is more credit worthy?</h3> "
   ]
  },
  {
   "cell_type": "code",
   "execution_count": 27,
   "metadata": {},
   "outputs": [],
   "source": [
    "# Command:\n",
    "def scatter_plot(a,b,c):\n",
    "    ax = plt.figure(figsize=(6, 4)).gca() # define axis\n",
    "    a.plot.scatter(x = b, y = c, ax = ax)\n",
    "    ax.set_title(b + ' Vs ' + c, fontsize = 25) # Give the plot a main title\n",
    "    ax.set_ylabel(c, fontsize = 20)# Set text for y axis\n",
    "    ax.set_xlabel(b, fontsize = 20)\n",
    "    ax.tick_params(axis=\"x\", labelsize=20)\n",
    "    ax.tick_params(axis=\"y\", labelsize=20)\n",
    "    ax.grid(True)\n",
    "    plt.show()"
   ]
  },
  {
   "cell_type": "code",
   "execution_count": 22,
   "metadata": {},
   "outputs": [
    {
     "data": {
      "text/plain": [
       "[Text(0.5, 1.0, 'Critical Histogram split by \"Class\"')]"
      ]
     },
     "execution_count": 22,
     "metadata": {},
     "output_type": "execute_result"
    },
    {
     "data": {
      "image/png": "[encoded data removed]",
      "text/plain": [
       "<Figure size 432x288 with 1 Axes>"
      ]
     },
     "metadata": {
      "needs_background": "light"
     },
     "output_type": "display_data"
    }
   ],
   "source": [
    "sns.histplot(data=credit_train, x=\"CreditHistory.Critical\", hue=\"Class\").set(title='Critical Histogram split by \"Class\"')"
   ]
  },
  {
   "cell_type": "markdown",
   "metadata": {},
   "source": [
    "One sentence summary:"
   ]
  },
  {
   "cell_type": "markdown",
   "metadata": {},
   "source": [
    "<h3>Q.3. Binarize the y output for e.g. 0 = 'bad' credit; 1 = 'good' credit. </h3>"
   ]
  },
  {
   "cell_type": "code",
   "execution_count": 25,
   "metadata": {},
   "outputs": [
    {
     "data": {
      "text/html": [
       "<div>\n",
       "<style scoped>\n",
       "    .dataframe tbody tr th:only-of-type {\n",
       "        vertical-align: middle;\n",
       "    }\n",
       "\n",
       "    .dataframe tbody tr th {\n",
       "        vertical-align: top;\n",
       "    }\n",
       "\n",
       "    .dataframe thead th {\n",
       "        text-align: right;\n",
       "    }\n",
       "</style>\n",
       "<table border=\"1\" class=\"dataframe\">\n",
       "  <thead>\n",
       "    <tr style=\"text-align: right;\">\n",
       "      <th></th>\n",
       "      <th>Class</th>\n",
       "      <th>Duration</th>\n",
       "      <th>Amount</th>\n",
       "      <th>InstallmentRatePercentage</th>\n",
       "      <th>ResidenceDuration</th>\n",
       "      <th>Age</th>\n",
       "      <th>NumberExistingCredits</th>\n",
       "      <th>NumberPeopleMaintenance</th>\n",
       "      <th>Telephone</th>\n",
       "      <th>ForeignWorker</th>\n",
       "      <th>CheckingAccountStatus.lt.0</th>\n",
       "      <th>CheckingAccountStatus.0.to.200</th>\n",
       "      <th>CheckingAccountStatus.gt.200</th>\n",
       "      <th>CreditHistory.ThisBank.AllPaid</th>\n",
       "      <th>CreditHistory.PaidDuly</th>\n",
       "      <th>CreditHistory.Delay</th>\n",
       "      <th>CreditHistory.Critical</th>\n",
       "    </tr>\n",
       "  </thead>\n",
       "  <tbody>\n",
       "    <tr>\n",
       "      <th>0</th>\n",
       "      <td>1</td>\n",
       "      <td>6</td>\n",
       "      <td>1169</td>\n",
       "      <td>4</td>\n",
       "      <td>4</td>\n",
       "      <td>67</td>\n",
       "      <td>2</td>\n",
       "      <td>1</td>\n",
       "      <td>0</td>\n",
       "      <td>1</td>\n",
       "      <td>1</td>\n",
       "      <td>0</td>\n",
       "      <td>0</td>\n",
       "      <td>0</td>\n",
       "      <td>0</td>\n",
       "      <td>0</td>\n",
       "      <td>1</td>\n",
       "    </tr>\n",
       "    <tr>\n",
       "      <th>1</th>\n",
       "      <td>0</td>\n",
       "      <td>48</td>\n",
       "      <td>5951</td>\n",
       "      <td>2</td>\n",
       "      <td>2</td>\n",
       "      <td>22</td>\n",
       "      <td>1</td>\n",
       "      <td>1</td>\n",
       "      <td>1</td>\n",
       "      <td>1</td>\n",
       "      <td>0</td>\n",
       "      <td>1</td>\n",
       "      <td>0</td>\n",
       "      <td>0</td>\n",
       "      <td>1</td>\n",
       "      <td>0</td>\n",
       "      <td>0</td>\n",
       "    </tr>\n",
       "    <tr>\n",
       "      <th>2</th>\n",
       "      <td>1</td>\n",
       "      <td>12</td>\n",
       "      <td>2096</td>\n",
       "      <td>2</td>\n",
       "      <td>3</td>\n",
       "      <td>49</td>\n",
       "      <td>1</td>\n",
       "      <td>2</td>\n",
       "      <td>1</td>\n",
       "      <td>1</td>\n",
       "      <td>0</td>\n",
       "      <td>0</td>\n",
       "      <td>0</td>\n",
       "      <td>0</td>\n",
       "      <td>0</td>\n",
       "      <td>0</td>\n",
       "      <td>1</td>\n",
       "    </tr>\n",
       "    <tr>\n",
       "      <th>3</th>\n",
       "      <td>1</td>\n",
       "      <td>36</td>\n",
       "      <td>9055</td>\n",
       "      <td>2</td>\n",
       "      <td>4</td>\n",
       "      <td>35</td>\n",
       "      <td>1</td>\n",
       "      <td>2</td>\n",
       "      <td>0</td>\n",
       "      <td>1</td>\n",
       "      <td>0</td>\n",
       "      <td>0</td>\n",
       "      <td>0</td>\n",
       "      <td>0</td>\n",
       "      <td>1</td>\n",
       "      <td>0</td>\n",
       "      <td>0</td>\n",
       "    </tr>\n",
       "    <tr>\n",
       "      <th>4</th>\n",
       "      <td>1</td>\n",
       "      <td>24</td>\n",
       "      <td>2835</td>\n",
       "      <td>3</td>\n",
       "      <td>4</td>\n",
       "      <td>53</td>\n",
       "      <td>1</td>\n",
       "      <td>1</td>\n",
       "      <td>1</td>\n",
       "      <td>1</td>\n",
       "      <td>0</td>\n",
       "      <td>0</td>\n",
       "      <td>0</td>\n",
       "      <td>0</td>\n",
       "      <td>1</td>\n",
       "      <td>0</td>\n",
       "      <td>0</td>\n",
       "    </tr>\n",
       "  </tbody>\n",
       "</table>\n",
       "</div>"
      ],
      "text/plain": [
       "  Class  Duration  Amount  InstallmentRatePercentage  ResidenceDuration  Age  \\\n",
       "0     1         6    1169                          4                  4   67   \n",
       "1     0        48    5951                          2                  2   22   \n",
       "2     1        12    2096                          2                  3   49   \n",
       "3     1        36    9055                          2                  4   35   \n",
       "4     1        24    2835                          3                  4   53   \n",
       "\n",
       "   NumberExistingCredits  NumberPeopleMaintenance  Telephone  ForeignWorker  \\\n",
       "0                      2                        1          0              1   \n",
       "1                      1                        1          1              1   \n",
       "2                      1                        2          1              1   \n",
       "3                      1                        2          0              1   \n",
       "4                      1                        1          1              1   \n",
       "\n",
       "   CheckingAccountStatus.lt.0  CheckingAccountStatus.0.to.200  \\\n",
       "0                           1                               0   \n",
       "1                           0                               1   \n",
       "2                           0                               0   \n",
       "3                           0                               0   \n",
       "4                           0                               0   \n",
       "\n",
       "   CheckingAccountStatus.gt.200  CreditHistory.ThisBank.AllPaid  \\\n",
       "0                             0                               0   \n",
       "1                             0                               0   \n",
       "2                             0                               0   \n",
       "3                             0                               0   \n",
       "4                             0                               0   \n",
       "\n",
       "   CreditHistory.PaidDuly  CreditHistory.Delay  CreditHistory.Critical  \n",
       "0                       0                    0                       1  \n",
       "1                       1                    0                       0  \n",
       "2                       0                    0                       1  \n",
       "3                       1                    0                       0  \n",
       "4                       1                    0                       0  "
      ]
     },
     "execution_count": 25,
     "metadata": {},
     "output_type": "execute_result"
    }
   ],
   "source": [
    "credit_train.replace(to_replace = ['Good','Bad'], value = ['1','0'], inplace = True)\n",
    "credit_train.head()"
   ]
  },
  {
   "cell_type": "markdown",
   "metadata": {},
   "source": [
    "<h3>Q.4. Generate a logistic regression model that uses the one predictor CreditHistory.Critical. Provide a summary of the model. </h3>"
   ]
  },
  {
   "cell_type": "code",
   "execution_count": null,
   "metadata": {
    "collapsed": true
   },
   "outputs": [],
   "source": []
  },
  {
   "cell_type": "markdown",
   "metadata": {},
   "source": [
    "<h3>Q.5. Using the developed model, predict the values in credit_test and use it to output a confusion matrix.</h3>"
   ]
  },
  {
   "cell_type": "code",
   "execution_count": null,
   "metadata": {
    "collapsed": true
   },
   "outputs": [],
   "source": [
    "\n"
   ]
  },
  {
   "cell_type": "markdown",
   "metadata": {},
   "source": [
    "<h3>Q.6. What is the accuracy of the model on the test data?</h3>"
   ]
  },
  {
   "cell_type": "code",
   "execution_count": 5,
   "metadata": {
    "collapsed": true
   },
   "outputs": [],
   "source": [
    "# Command that outputs acccuracy\n"
   ]
  },
  {
   "cell_type": "markdown",
   "metadata": {},
   "source": [
    "<h3>Q.7. Generate the ROC curve.</h3>"
   ]
  },
  {
   "cell_type": "code",
   "execution_count": null,
   "metadata": {
    "collapsed": true
   },
   "outputs": [],
   "source": []
  },
  {
   "cell_type": "markdown",
   "metadata": {},
   "source": [
    "<h3>Q.8. What is the ROC AUC of the model on the test data?</h3>"
   ]
  },
  {
   "cell_type": "code",
   "execution_count": 6,
   "metadata": {
    "collapsed": true
   },
   "outputs": [],
   "source": [
    "# Command(s):\n"
   ]
  },
  {
   "cell_type": "markdown",
   "metadata": {},
   "source": [
    "<h3>Q.9. Calculate LDA model on credit_train.</h3>"
   ]
  },
  {
   "cell_type": "code",
   "execution_count": null,
   "metadata": {
    "collapsed": true
   },
   "outputs": [],
   "source": []
  },
  {
   "cell_type": "markdown",
   "metadata": {},
   "source": [
    "<h3>Q.10. What is the accuracy of the new model?</h3>"
   ]
  },
  {
   "cell_type": "code",
   "execution_count": null,
   "metadata": {
    "collapsed": true
   },
   "outputs": [],
   "source": [
    "\n"
   ]
  },
  {
   "cell_type": "markdown",
   "metadata": {},
   "source": [
    "<h3>Q.11. Create a new text cell in your Notebook: Complete a 50-100 word summary \n",
    "    (or short description of your thinking in applying this week's learning to the solution) \n",
    "     of your experience in this assignment. Include:\n",
    "<br>                                                                       \n",
    "What was your incoming experience with this model, if any?\n",
    "what steps you took, what obstacles you encountered.\n",
    "how you link this exercise to real-world, machine learning problem-solving. (What steps were missing? What else do you need to learn?)\n",
    "This summary allows your instructor to know how you are doing and allot points for your effort in thinking and planning, and making connections to real-world work.\n",
    "</h3>"
   ]
  },
  {
   "cell_type": "code",
   "execution_count": null,
   "metadata": {
    "collapsed": true
   },
   "outputs": [],
   "source": []
  }
 ],
 "metadata": {
  "kernelspec": {
   "display_name": "Python 3",
   "language": "python",
   "name": "python3"
  },
  "language_info": {
   "codemirror_mode": {
    "name": "ipython",
    "version": 3
   },
   "file_extension": ".py",
   "mimetype": "text/x-python",
   "name": "python",
   "nbconvert_exporter": "python",
   "pygments_lexer": "ipython3",
   "version": "3.8.8"
  }
 },
 "nbformat": 4,
 "nbformat_minor": 2
}
